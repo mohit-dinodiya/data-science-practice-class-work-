{
 "cells": [
  {
   "cell_type": "code",
   "execution_count": 1,
   "id": "414d3fc3-f62c-4226-a9b6-79129a069372",
   "metadata": {},
   "outputs": [
    {
     "data": {
      "text/plain": [
       "True"
      ]
     },
     "execution_count": 1,
     "metadata": {},
     "output_type": "execute_result"
    }
   ],
   "source": [
    "True and True"
   ]
  },
  {
   "cell_type": "code",
   "execution_count": 1,
   "id": "0b782a1b-59e5-433f-86e5-129e6d1dfe8f",
   "metadata": {},
   "outputs": [
    {
     "data": {
      "text/plain": [
       "True"
      ]
     },
     "execution_count": 1,
     "metadata": {},
     "output_type": "execute_result"
    }
   ],
   "source": [
    "True or False"
   ]
  },
  {
   "cell_type": "code",
   "execution_count": 2,
   "id": "c3f95540-b11e-4213-ab46-c6f5117f7d84",
   "metadata": {},
   "outputs": [
    {
     "data": {
      "text/plain": [
       "False"
      ]
     },
     "execution_count": 2,
     "metadata": {},
     "output_type": "execute_result"
    }
   ],
   "source": [
    "not True"
   ]
  },
  {
   "cell_type": "code",
   "execution_count": 6,
   "id": "f205d50e-8634-4e3c-9dd2-c5936548faa5",
   "metadata": {},
   "outputs": [
    {
     "data": {
      "text/plain": [
       "True"
      ]
     },
     "execution_count": 6,
     "metadata": {},
     "output_type": "execute_result"
    }
   ],
   "source": [
    "not int( bool(0))"
   ]
  },
  {
   "cell_type": "code",
   "execution_count": 7,
   "id": "c1aafdef-5e74-4982-b6ff-78da809d95ba",
   "metadata": {},
   "outputs": [
    {
     "data": {
      "text/plain": [
       "True"
      ]
     },
     "execution_count": 7,
     "metadata": {},
     "output_type": "execute_result"
    }
   ],
   "source": [
    "bool(1)"
   ]
  },
  {
   "cell_type": "code",
   "execution_count": 8,
   "id": "b00de573-da7a-4629-abb3-58cbbb77ae98",
   "metadata": {},
   "outputs": [
    {
     "ename": "SyntaxError",
     "evalue": "invalid syntax (750019877.py, line 1)",
     "output_type": "error",
     "traceback": [
      "\u001b[0;36m  Cell \u001b[0;32mIn[8], line 1\u001b[0;36m\u001b[0m\n\u001b[0;31m    int bool 1\u001b[0m\n\u001b[0m        ^\u001b[0m\n\u001b[0;31mSyntaxError\u001b[0m\u001b[0;31m:\u001b[0m invalid syntax\n"
     ]
    }
   ],
   "source": [
    "int bool 1"
   ]
  },
  {
   "cell_type": "code",
   "execution_count": 9,
   "id": "8025f1c0-7a25-450e-85a8-327f1e3e9d12",
   "metadata": {},
   "outputs": [
    {
     "ename": "SyntaxError",
     "evalue": "invalid syntax (270403030.py, line 1)",
     "output_type": "error",
     "traceback": [
      "\u001b[0;36m  Cell \u001b[0;32mIn[9], line 1\u001b[0;36m\u001b[0m\n\u001b[0;31m    int bool(1)\u001b[0m\n\u001b[0m        ^\u001b[0m\n\u001b[0;31mSyntaxError\u001b[0m\u001b[0;31m:\u001b[0m invalid syntax\n"
     ]
    }
   ],
   "source": [
    "int bool(1)"
   ]
  },
  {
   "cell_type": "code",
   "execution_count": 10,
   "id": "c259105d-d534-46d0-9c78-31ebc756bf5b",
   "metadata": {},
   "outputs": [
    {
     "data": {
      "text/plain": [
       "1"
      ]
     },
     "execution_count": 10,
     "metadata": {},
     "output_type": "execute_result"
    }
   ],
   "source": [
    "int(bool(1))"
   ]
  },
  {
   "cell_type": "code",
   "execution_count": 11,
   "id": "2a7c5950-8d72-49b3-9465-7da8d8c9dcb8",
   "metadata": {},
   "outputs": [
    {
     "data": {
      "text/plain": [
       "False"
      ]
     },
     "execution_count": 11,
     "metadata": {},
     "output_type": "execute_result"
    }
   ],
   "source": [
    "not(int(bool(1)))"
   ]
  },
  {
   "cell_type": "code",
   "execution_count": 12,
   "id": "7e7dd6e0-d18b-4ed5-96c6-d985a141f678",
   "metadata": {},
   "outputs": [
    {
     "data": {
      "text/plain": [
       "0"
      ]
     },
     "execution_count": 12,
     "metadata": {},
     "output_type": "execute_result"
    }
   ],
   "source": [
    "int(not(bool(1)))"
   ]
  },
  {
   "cell_type": "code",
   "execution_count": 13,
   "id": "0f47aed3-9d35-45ca-93fe-4699c916459f",
   "metadata": {},
   "outputs": [
    {
     "data": {
      "text/plain": [
       "1"
      ]
     },
     "execution_count": 13,
     "metadata": {},
     "output_type": "execute_result"
    }
   ],
   "source": [
    "1"
   ]
  },
  {
   "cell_type": "code",
   "execution_count": 14,
   "id": "2a8c3883-0bf2-4e0f-aeae-151a9758a2ac",
   "metadata": {},
   "outputs": [
    {
     "data": {
      "text/plain": [
       "True"
      ]
     },
     "execution_count": 14,
     "metadata": {},
     "output_type": "execute_result"
    }
   ],
   "source": [
    "not 0"
   ]
  },
  {
   "cell_type": "code",
   "execution_count": 15,
   "id": "1c58b45f-33b0-484e-a15a-b5d19175850f",
   "metadata": {},
   "outputs": [
    {
     "data": {
      "text/plain": [
       "False"
      ]
     },
     "execution_count": 15,
     "metadata": {},
     "output_type": "execute_result"
    }
   ],
   "source": [
    "not 1"
   ]
  },
  {
   "cell_type": "code",
   "execution_count": 16,
   "id": "a0c1a5e2-67ac-47c9-8b8d-6c013669c19c",
   "metadata": {},
   "outputs": [
    {
     "ename": "SyntaxError",
     "evalue": "invalid syntax (3385194035.py, line 1)",
     "output_type": "error",
     "traceback": [
      "\u001b[0;36m  Cell \u001b[0;32mIn[16], line 1\u001b[0;36m\u001b[0m\n\u001b[0;31m    bool 0\u001b[0m\n\u001b[0m         ^\u001b[0m\n\u001b[0;31mSyntaxError\u001b[0m\u001b[0;31m:\u001b[0m invalid syntax\n"
     ]
    }
   ],
   "source": [
    "bool 0"
   ]
  },
  {
   "cell_type": "code",
   "execution_count": 17,
   "id": "9c70ff34-67d8-4985-887b-c47afcd568a9",
   "metadata": {},
   "outputs": [
    {
     "data": {
      "text/plain": [
       "False"
      ]
     },
     "execution_count": 17,
     "metadata": {},
     "output_type": "execute_result"
    }
   ],
   "source": [
    "bool(0)"
   ]
  },
  {
   "cell_type": "code",
   "execution_count": 18,
   "id": "0e290c6d-c15f-454d-8bbd-33e352192a3c",
   "metadata": {},
   "outputs": [
    {
     "data": {
      "text/plain": [
       "True"
      ]
     },
     "execution_count": 18,
     "metadata": {},
     "output_type": "execute_result"
    }
   ],
   "source": [
    "bool(1)"
   ]
  },
  {
   "cell_type": "code",
   "execution_count": 19,
   "id": "d5741b78-2e43-4092-9d2d-79c589569c9c",
   "metadata": {},
   "outputs": [
    {
     "data": {
      "text/plain": [
       "False"
      ]
     },
     "execution_count": 19,
     "metadata": {},
     "output_type": "execute_result"
    }
   ],
   "source": [
    "not 1000"
   ]
  },
  {
   "cell_type": "code",
   "execution_count": 20,
   "id": "5dd35e98-1de7-4678-be5c-ca34e771b8b2",
   "metadata": {},
   "outputs": [
    {
     "data": {
      "text/plain": [
       "False"
      ]
     },
     "execution_count": 20,
     "metadata": {},
     "output_type": "execute_result"
    }
   ],
   "source": [
    "not-1"
   ]
  },
  {
   "cell_type": "code",
   "execution_count": 21,
   "id": "82fdf449-cd7a-4f85-b239-1cc327028cc1",
   "metadata": {},
   "outputs": [
    {
     "data": {
      "text/plain": [
       "True"
      ]
     },
     "execution_count": 21,
     "metadata": {},
     "output_type": "execute_result"
    }
   ],
   "source": [
    "bool(2)"
   ]
  },
  {
   "cell_type": "code",
   "execution_count": 22,
   "id": "acaef90f-578f-4084-a5f8-16fdace94c05",
   "metadata": {},
   "outputs": [
    {
     "data": {
      "text/plain": [
       "True"
      ]
     },
     "execution_count": 22,
     "metadata": {},
     "output_type": "execute_result"
    }
   ],
   "source": [
    "bool(-2)"
   ]
  },
  {
   "cell_type": "code",
   "execution_count": 23,
   "id": "9531601d-8a52-432d-bce5-80a2c7990689",
   "metadata": {},
   "outputs": [
    {
     "data": {
      "text/plain": [
       "False"
      ]
     },
     "execution_count": 23,
     "metadata": {},
     "output_type": "execute_result"
    }
   ],
   "source": [
    "bool(0)"
   ]
  },
  {
   "cell_type": "markdown",
   "id": "acc40943-6565-4db3-9a44-8e61ea14fb3a",
   "metadata": {},
   "source": [
    "# Logical And"
   ]
  },
  {
   "cell_type": "code",
   "execution_count": 24,
   "id": "ed415578-655b-46d9-9fd5-6033bcea3d20",
   "metadata": {},
   "outputs": [
    {
     "data": {
      "text/plain": [
       "0"
      ]
     },
     "execution_count": 24,
     "metadata": {},
     "output_type": "execute_result"
    }
   ],
   "source": [
    "True*False"
   ]
  },
  {
   "cell_type": "code",
   "execution_count": 25,
   "id": "1b961ed0-77c5-465a-bf74-a2bc31fdef60",
   "metadata": {},
   "outputs": [
    {
     "data": {
      "text/plain": [
       "1"
      ]
     },
     "execution_count": 25,
     "metadata": {},
     "output_type": "execute_result"
    }
   ],
   "source": [
    "True*True"
   ]
  },
  {
   "cell_type": "code",
   "execution_count": 33,
   "id": "2ae365b8-b087-4047-afc1-cb12ec664270",
   "metadata": {},
   "outputs": [
    {
     "data": {
      "text/plain": [
       "True"
      ]
     },
     "execution_count": 33,
     "metadata": {},
     "output_type": "execute_result"
    }
   ],
   "source": [
    "not False*True"
   ]
  },
  {
   "cell_type": "code",
   "execution_count": 27,
   "id": "db9620cb-78a3-4ed8-bac8-b4a391e9c4a9",
   "metadata": {},
   "outputs": [
    {
     "data": {
      "text/plain": [
       "0"
      ]
     },
     "execution_count": 27,
     "metadata": {},
     "output_type": "execute_result"
    }
   ],
   "source": [
    "False*False"
   ]
  },
  {
   "cell_type": "code",
   "execution_count": 29,
   "id": "23581926-2aa2-4982-9db3-8621f9543bcd",
   "metadata": {},
   "outputs": [
    {
     "data": {
      "text/plain": [
       "0"
      ]
     },
     "execution_count": 29,
     "metadata": {},
     "output_type": "execute_result"
    }
   ],
   "source": [
    "False*(not(False))"
   ]
  },
  {
   "cell_type": "code",
   "execution_count": 35,
   "id": "6c9327b1-268e-4348-9c8e-874bee1d154f",
   "metadata": {},
   "outputs": [
    {
     "data": {
      "text/plain": [
       "0"
      ]
     },
     "execution_count": 35,
     "metadata": {},
     "output_type": "execute_result"
    }
   ],
   "source": [
    "(not( True))*True"
   ]
  },
  {
   "cell_type": "code",
   "execution_count": 36,
   "id": "5051c54e-ee35-4998-96b7-1ec1da87764a",
   "metadata": {},
   "outputs": [],
   "source": [
    "l1=[1,2,3,4]\n",
    "l2=[1,2,3,4]"
   ]
  },
  {
   "cell_type": "code",
   "execution_count": 37,
   "id": "3b274721-82ef-48db-a53c-66f8923439ef",
   "metadata": {},
   "outputs": [
    {
     "data": {
      "text/plain": [
       "140245452083968"
      ]
     },
     "execution_count": 37,
     "metadata": {},
     "output_type": "execute_result"
    }
   ],
   "source": [
    "id(l1)"
   ]
  },
  {
   "cell_type": "code",
   "execution_count": 38,
   "id": "953ccac8-68b2-449f-babc-2077c50b2b4f",
   "metadata": {},
   "outputs": [
    {
     "data": {
      "text/plain": [
       "140245520681536"
      ]
     },
     "execution_count": 38,
     "metadata": {},
     "output_type": "execute_result"
    }
   ],
   "source": [
    "id(l2)"
   ]
  },
  {
   "cell_type": "code",
   "execution_count": 41,
   "id": "0325fe94-6182-43c8-8d22-26e2e07e1871",
   "metadata": {},
   "outputs": [
    {
     "data": {
      "text/plain": [
       "True"
      ]
     },
     "execution_count": 41,
     "metadata": {},
     "output_type": "execute_result"
    }
   ],
   "source": [
    "l1 is l2"
   ]
  },
  {
   "cell_type": "code",
   "execution_count": 42,
   "id": "56c456c7-4c0f-4ad5-ab6f-0c58bccc4ec8",
   "metadata": {},
   "outputs": [],
   "source": [
    "l1=l2"
   ]
  },
  {
   "cell_type": "code",
   "execution_count": 43,
   "id": "b9026b6e-06c6-4c46-9c4d-6d44fb972f3d",
   "metadata": {},
   "outputs": [
    {
     "name": "stdout",
     "output_type": "stream",
     "text": [
      "140245520681536\n",
      "140245520681536\n"
     ]
    }
   ],
   "source": [
    "print(id(l1))\n",
    "print(id(l2))\n",
    "      "
   ]
  },
  {
   "cell_type": "code",
   "execution_count": 44,
   "id": "9e9cd22c-70ee-4143-acaa-600eb78dbb4a",
   "metadata": {},
   "outputs": [
    {
     "data": {
      "text/plain": [
       "True"
      ]
     },
     "execution_count": 44,
     "metadata": {},
     "output_type": "execute_result"
    }
   ],
   "source": [
    "l1=[1,2,3,4]\n",
    "l2=[1,2,3,4]\n",
    "l1 is not l2"
   ]
  },
  {
   "cell_type": "code",
   "execution_count": 45,
   "id": "62021ee8-cd6e-43bd-be57-bf9495adecf6",
   "metadata": {},
   "outputs": [
    {
     "data": {
      "text/plain": [
       "True"
      ]
     },
     "execution_count": 45,
     "metadata": {},
     "output_type": "execute_result"
    }
   ],
   "source": [
    "l1 == l2"
   ]
  },
  {
   "cell_type": "code",
   "execution_count": 46,
   "id": "a4b4bf91-b5e5-4afb-807a-c69709252bd3",
   "metadata": {},
   "outputs": [],
   "source": [
    "a=2\n",
    "b=2"
   ]
  },
  {
   "cell_type": "code",
   "execution_count": 47,
   "id": "77e886d4-d375-4e42-8f6b-1c1eb18b74d6",
   "metadata": {},
   "outputs": [
    {
     "name": "stdout",
     "output_type": "stream",
     "text": [
      "140245569667344\n",
      "140245569667344\n"
     ]
    }
   ],
   "source": [
    "print(id(a))\n",
    "print(id(b))"
   ]
  },
  {
   "cell_type": "code",
   "execution_count": 48,
   "id": "bef712c0-3af6-4bc6-b0bd-e5f67bcb1bd8",
   "metadata": {},
   "outputs": [
    {
     "name": "stdout",
     "output_type": "stream",
     "text": [
      "140245452376304\n",
      "140245452376304\n"
     ]
    }
   ],
   "source": [
    "s1=\"mohit\"\n",
    "s2=\"mohit\"\n",
    "print(id(s1))\n",
    "print(id(s2))"
   ]
  },
  {
   "cell_type": "code",
   "execution_count": 49,
   "id": "5959cab4-4e92-4f89-aff7-1104118ac581",
   "metadata": {},
   "outputs": [
    {
     "data": {
      "text/plain": [
       "[1, 2, 3, 4]"
      ]
     },
     "execution_count": 49,
     "metadata": {},
     "output_type": "execute_result"
    }
   ],
   "source": [
    "l1"
   ]
  },
  {
   "cell_type": "code",
   "execution_count": 50,
   "id": "18183ce9-d61c-4833-a1e5-3fba1f2b603f",
   "metadata": {},
   "outputs": [
    {
     "data": {
      "text/plain": [
       "1"
      ]
     },
     "execution_count": 50,
     "metadata": {},
     "output_type": "execute_result"
    }
   ],
   "source": [
    "l1[0]"
   ]
  },
  {
   "cell_type": "code",
   "execution_count": 51,
   "id": "c442994d-c4fc-457c-b5c1-773fc4170680",
   "metadata": {},
   "outputs": [],
   "source": [
    "l1[0]=10"
   ]
  },
  {
   "cell_type": "code",
   "execution_count": 52,
   "id": "bbcf317e-57e9-4b63-b98b-6a7b8444811b",
   "metadata": {},
   "outputs": [
    {
     "data": {
      "text/plain": [
       "[10, 2, 3, 4]"
      ]
     },
     "execution_count": 52,
     "metadata": {},
     "output_type": "execute_result"
    }
   ],
   "source": [
    "l1"
   ]
  },
  {
   "cell_type": "code",
   "execution_count": 53,
   "id": "41322789-4808-4274-9bbc-fd3766652a69",
   "metadata": {},
   "outputs": [
    {
     "data": {
      "text/plain": [
       "'mohit'"
      ]
     },
     "execution_count": 53,
     "metadata": {},
     "output_type": "execute_result"
    }
   ],
   "source": [
    "s1"
   ]
  },
  {
   "cell_type": "code",
   "execution_count": 54,
   "id": "b8d0bc45-83d3-4087-ac61-218bbb988586",
   "metadata": {},
   "outputs": [
    {
     "ename": "TypeError",
     "evalue": "'str' object does not support item assignment",
     "output_type": "error",
     "traceback": [
      "\u001b[0;31m---------------------------------------------------------------------------\u001b[0m",
      "\u001b[0;31mTypeError\u001b[0m                                 Traceback (most recent call last)",
      "Cell \u001b[0;32mIn[54], line 1\u001b[0m\n\u001b[0;32m----> 1\u001b[0m \u001b[43ms1\u001b[49m\u001b[43m[\u001b[49m\u001b[38;5;241;43m0\u001b[39;49m\u001b[43m]\u001b[49m\u001b[38;5;241m=\u001b[39m\u001b[38;5;124m'\u001b[39m\u001b[38;5;124mm\u001b[39m\u001b[38;5;124m'\u001b[39m\n",
      "\u001b[0;31mTypeError\u001b[0m: 'str' object does not support item assignment"
     ]
    }
   ],
   "source": [
    "s1[0]='m'"
   ]
  },
  {
   "cell_type": "code",
   "execution_count": 55,
   "id": "4359c385-a6b8-4f03-ae9e-62d45c9ae399",
   "metadata": {},
   "outputs": [],
   "source": [
    "s1=\"rohit\""
   ]
  },
  {
   "cell_type": "code",
   "execution_count": 56,
   "id": "7a7c6cb3-832b-4574-a6e5-335c899d5d05",
   "metadata": {},
   "outputs": [
    {
     "data": {
      "text/plain": [
       "'rohit'"
      ]
     },
     "execution_count": 56,
     "metadata": {},
     "output_type": "execute_result"
    }
   ],
   "source": [
    "s1"
   ]
  },
  {
   "cell_type": "code",
   "execution_count": 57,
   "id": "656244f5-9b22-47e7-98a2-e639508c743d",
   "metadata": {},
   "outputs": [
    {
     "data": {
      "text/plain": [
       "'rohit'"
      ]
     },
     "execution_count": 57,
     "metadata": {},
     "output_type": "execute_result"
    }
   ],
   "source": [
    "s1"
   ]
  },
  {
   "cell_type": "markdown",
   "id": "5a16e767-8c3f-46c1-ba60-b6e1ede8d58d",
   "metadata": {},
   "source": [
    "# comparison operation"
   ]
  },
  {
   "cell_type": "code",
   "execution_count": 58,
   "id": "b4d66f55-66bb-4120-8122-e6f84d5851e4",
   "metadata": {},
   "outputs": [
    {
     "data": {
      "text/plain": [
       "6"
      ]
     },
     "execution_count": 58,
     "metadata": {},
     "output_type": "execute_result"
    }
   ],
   "source": [
    "a=4\n",
    "b=2\n",
    "a+b"
   ]
  },
  {
   "cell_type": "code",
   "execution_count": 59,
   "id": "51af0d03-2e9e-4db6-b409-2520ef251715",
   "metadata": {},
   "outputs": [
    {
     "data": {
      "text/plain": [
       "8"
      ]
     },
     "execution_count": 59,
     "metadata": {},
     "output_type": "execute_result"
    }
   ],
   "source": [
    "a*b"
   ]
  },
  {
   "cell_type": "code",
   "execution_count": 60,
   "id": "682df4e7-8254-48d2-8303-2e3b1540a359",
   "metadata": {},
   "outputs": [
    {
     "data": {
      "text/plain": [
       "2"
      ]
     },
     "execution_count": 60,
     "metadata": {},
     "output_type": "execute_result"
    }
   ],
   "source": [
    "a//b"
   ]
  },
  {
   "cell_type": "code",
   "execution_count": 61,
   "id": "07ba23f6-1841-436f-9abe-c4bdef091bf5",
   "metadata": {},
   "outputs": [
    {
     "data": {
      "text/plain": [
       "2.0"
      ]
     },
     "execution_count": 61,
     "metadata": {},
     "output_type": "execute_result"
    }
   ],
   "source": [
    "a/b"
   ]
  },
  {
   "cell_type": "code",
   "execution_count": 62,
   "id": "df8e7bbe-7074-4591-8774-331fc678466a",
   "metadata": {},
   "outputs": [
    {
     "data": {
      "text/plain": [
       "0"
      ]
     },
     "execution_count": 62,
     "metadata": {},
     "output_type": "execute_result"
    }
   ],
   "source": [
    "a%b"
   ]
  },
  {
   "cell_type": "code",
   "execution_count": 63,
   "id": "daa42de0-4ce1-43b5-a1b8-1cdb865959f0",
   "metadata": {},
   "outputs": [
    {
     "data": {
      "text/plain": [
       "2"
      ]
     },
     "execution_count": 63,
     "metadata": {},
     "output_type": "execute_result"
    }
   ],
   "source": [
    "b%a"
   ]
  },
  {
   "cell_type": "markdown",
   "id": "8054e0f4-4e51-44b5-b9f6-33b594f2239c",
   "metadata": {},
   "source": [
    "# bitwise opertion"
   ]
  },
  {
   "cell_type": "code",
   "execution_count": 64,
   "id": "86cebf04-8171-47ee-82d2-fdfd867b17e2",
   "metadata": {},
   "outputs": [
    {
     "data": {
      "text/plain": [
       "'0b1010'"
      ]
     },
     "execution_count": 64,
     "metadata": {},
     "output_type": "execute_result"
    }
   ],
   "source": [
    "c=10\n",
    "bin(c)"
   ]
  },
  {
   "cell_type": "code",
   "execution_count": 65,
   "id": "3e35f49c-14c2-4d53-a6f9-56c90336aa5d",
   "metadata": {},
   "outputs": [
    {
     "data": {
      "text/plain": [
       "'0b101'"
      ]
     },
     "execution_count": 65,
     "metadata": {},
     "output_type": "execute_result"
    }
   ],
   "source": [
    "c=5\n",
    "bin(c)"
   ]
  },
  {
   "cell_type": "code",
   "execution_count": 66,
   "id": "0339a1f8-f856-4df7-92d3-e7b254b75148",
   "metadata": {},
   "outputs": [
    {
     "data": {
      "text/plain": [
       "-6"
      ]
     },
     "execution_count": 66,
     "metadata": {},
     "output_type": "execute_result"
    }
   ],
   "source": [
    "~c"
   ]
  },
  {
   "cell_type": "code",
   "execution_count": 71,
   "id": "0a0fad21-7557-430c-9836-20b82dc972ae",
   "metadata": {},
   "outputs": [
    {
     "data": {
      "text/plain": [
       "False"
      ]
     },
     "execution_count": 71,
     "metadata": {},
     "output_type": "execute_result"
    }
   ],
   "source": [
    "True&False"
   ]
  },
  {
   "cell_type": "code",
   "execution_count": 74,
   "id": "f3d0f58e-3d82-4ad4-a729-8fc145b49cc2",
   "metadata": {},
   "outputs": [
    {
     "data": {
      "text/plain": [
       "True"
      ]
     },
     "execution_count": 74,
     "metadata": {},
     "output_type": "execute_result"
    }
   ],
   "source": [
    "True|True"
   ]
  },
  {
   "cell_type": "code",
   "execution_count": 75,
   "id": "ac365ba1-59e7-497c-bc27-7ba9c7604549",
   "metadata": {},
   "outputs": [
    {
     "data": {
      "text/plain": [
       "154"
      ]
     },
     "execution_count": 75,
     "metadata": {},
     "output_type": "execute_result"
    }
   ],
   "source": [
    "c<<1"
   ]
  },
  {
   "cell_type": "code",
   "execution_count": 68,
   "id": "18ad8b04-d0a9-4de2-b925-e9e76ac95c95",
   "metadata": {},
   "outputs": [
    {
     "data": {
      "text/plain": [
       "-78"
      ]
     },
     "execution_count": 68,
     "metadata": {},
     "output_type": "execute_result"
    }
   ],
   "source": [
    "c=77\n",
    "~c"
   ]
  },
  {
   "cell_type": "code",
   "execution_count": 67,
   "id": "72d3c58c-1c58-42de-b563-52f18ca436e3",
   "metadata": {},
   "outputs": [
    {
     "data": {
      "text/plain": [
       "-12"
      ]
     },
     "execution_count": 67,
     "metadata": {},
     "output_type": "execute_result"
    }
   ],
   "source": [
    "c=11\n",
    "~c"
   ]
  },
  {
   "cell_type": "code",
   "execution_count": 69,
   "id": "35bc8c33-bde6-4be5-84d5-00614c47cfb2",
   "metadata": {},
   "outputs": [
    {
     "ename": "SyntaxError",
     "evalue": "invalid syntax (289502150.py, line 1)",
     "output_type": "error",
     "traceback": [
      "\u001b[0;36m  Cell \u001b[0;32mIn[69], line 1\u001b[0;36m\u001b[0m\n\u001b[0;31m    <<c\u001b[0m\n\u001b[0m    ^\u001b[0m\n\u001b[0;31mSyntaxError\u001b[0m\u001b[0;31m:\u001b[0m invalid syntax\n"
     ]
    }
   ],
   "source": [
    "<<c"
   ]
  },
  {
   "cell_type": "markdown",
   "id": "5f2f2c54-c12c-42da-a8d8-7327a9a53b2d",
   "metadata": {},
   "source": [
    "##strings"
   ]
  },
  {
   "cell_type": "code",
   "execution_count": 76,
   "id": "dc80c3a4-4dc8-4f66-8f96-26dc72a8a5c7",
   "metadata": {},
   "outputs": [
    {
     "data": {
      "text/plain": [
       "'welcome to home'"
      ]
     },
     "execution_count": 76,
     "metadata": {},
     "output_type": "execute_result"
    }
   ],
   "source": [
    "'mohit'\n",
    "\"welcome to home\""
   ]
  },
  {
   "cell_type": "code",
   "execution_count": 77,
   "id": "78fef2e4-7ddf-4a91-aabc-356f3aa8e0c8",
   "metadata": {},
   "outputs": [
    {
     "data": {
      "text/plain": [
       "'mohit'"
      ]
     },
     "execution_count": 77,
     "metadata": {},
     "output_type": "execute_result"
    }
   ],
   "source": [
    "'mohit'"
   ]
  },
  {
   "cell_type": "code",
   "execution_count": 78,
   "id": "da63c7f9-89bd-4232-bb1e-3c8f58f33634",
   "metadata": {},
   "outputs": [],
   "source": [
    "s1=\"welcome\""
   ]
  },
  {
   "cell_type": "code",
   "execution_count": 79,
   "id": "3233b3b8-64f0-4f59-aa48-797c914f5d28",
   "metadata": {},
   "outputs": [
    {
     "data": {
      "text/plain": [
       "'w'"
      ]
     },
     "execution_count": 79,
     "metadata": {},
     "output_type": "execute_result"
    }
   ],
   "source": [
    "s1[0]"
   ]
  },
  {
   "cell_type": "code",
   "execution_count": 80,
   "id": "2d8c92a7-9fda-4955-a5dd-0fcc2fb15ae4",
   "metadata": {},
   "outputs": [
    {
     "ename": "TypeError",
     "evalue": "'str' object does not support item assignment",
     "output_type": "error",
     "traceback": [
      "\u001b[0;31m---------------------------------------------------------------------------\u001b[0m",
      "\u001b[0;31mTypeError\u001b[0m                                 Traceback (most recent call last)",
      "Cell \u001b[0;32mIn[80], line 1\u001b[0m\n\u001b[0;32m----> 1\u001b[0m \u001b[43ms1\u001b[49m\u001b[43m[\u001b[49m\u001b[38;5;241;43m0\u001b[39;49m\u001b[43m]\u001b[49m\u001b[38;5;241m=\u001b[39m\u001b[38;5;124m'\u001b[39m\u001b[38;5;124mw\u001b[39m\u001b[38;5;124m'\u001b[39m\n",
      "\u001b[0;31mTypeError\u001b[0m: 'str' object does not support item assignment"
     ]
    }
   ],
   "source": [
    "s1[0]='w'"
   ]
  },
  {
   "cell_type": "code",
   "execution_count": 81,
   "id": "f4c1e553-c92f-4f2d-885d-ddfdc44340c5",
   "metadata": {},
   "outputs": [],
   "source": [
    "s1=\"hello\""
   ]
  },
  {
   "cell_type": "code",
   "execution_count": 82,
   "id": "66eb113a-f19a-4a00-bf8e-5add1634f1ab",
   "metadata": {},
   "outputs": [
    {
     "data": {
      "text/plain": [
       "'hello'"
      ]
     },
     "execution_count": 82,
     "metadata": {},
     "output_type": "execute_result"
    }
   ],
   "source": [
    "s1"
   ]
  },
  {
   "cell_type": "code",
   "execution_count": 83,
   "id": "ec5d0de7-a308-4492-bfa4-2a52fa6509b7",
   "metadata": {},
   "outputs": [
    {
     "name": "stdout",
     "output_type": "stream",
     "text": [
      "h\n",
      "e\n",
      "l\n",
      "l\n",
      "o\n"
     ]
    }
   ],
   "source": [
    "for i in s1:\n",
    "    print(i)"
   ]
  },
  {
   "cell_type": "code",
   "execution_count": 84,
   "id": "a6dd3333-50aa-4859-9458-0dabf30f248b",
   "metadata": {},
   "outputs": [],
   "source": [
    "s1=\"hi my nme is mohit\""
   ]
  },
  {
   "cell_type": "code",
   "execution_count": 85,
   "id": "43ff80fc-be9c-48ce-88e7-93a7a0e9a987",
   "metadata": {},
   "outputs": [
    {
     "data": {
      "text/plain": [
       "'hi my nme is mohit'"
      ]
     },
     "execution_count": 85,
     "metadata": {},
     "output_type": "execute_result"
    }
   ],
   "source": [
    "s1"
   ]
  },
  {
   "cell_type": "code",
   "execution_count": 86,
   "id": "07114245-6431-4d72-a40b-3aa50b62c1fd",
   "metadata": {},
   "outputs": [
    {
     "name": "stdout",
     "output_type": "stream",
     "text": [
      "h\n",
      "i\n",
      " \n",
      "m\n",
      "y\n",
      " \n",
      "n\n",
      "m\n",
      "e\n",
      " \n",
      "i\n",
      "s\n",
      " \n",
      "m\n",
      "o\n",
      "h\n",
      "i\n",
      "t\n"
     ]
    }
   ],
   "source": [
    "for i in s1:\n",
    "    print(i)"
   ]
  },
  {
   "cell_type": "code",
   "execution_count": 87,
   "id": "c1c67e83-51ff-410a-aa72-d36bcb8b0a22",
   "metadata": {},
   "outputs": [
    {
     "data": {
      "text/plain": [
       "<function str.rsplit(sep=None, maxsplit=-1)>"
      ]
     },
     "execution_count": 87,
     "metadata": {},
     "output_type": "execute_result"
    }
   ],
   "source": [
    "s1.rsplit"
   ]
  },
  {
   "cell_type": "code",
   "execution_count": 88,
   "id": "f1ef97b4-df17-4b47-816d-9879f4c05feb",
   "metadata": {},
   "outputs": [
    {
     "data": {
      "text/plain": [
       "<function str.count>"
      ]
     },
     "execution_count": 88,
     "metadata": {},
     "output_type": "execute_result"
    }
   ],
   "source": [
    "s1.count"
   ]
  },
  {
   "cell_type": "code",
   "execution_count": 89,
   "id": "5e6c70c2-c425-43ab-b3c6-96a223d771cf",
   "metadata": {},
   "outputs": [
    {
     "data": {
      "text/plain": [
       "'hi my nme is mohit'"
      ]
     },
     "execution_count": 89,
     "metadata": {},
     "output_type": "execute_result"
    }
   ],
   "source": [
    "s1"
   ]
  },
  {
   "cell_type": "code",
   "execution_count": 90,
   "id": "af158b4a-b3f5-4910-baaf-56ba1d60c74d",
   "metadata": {},
   "outputs": [
    {
     "data": {
      "text/plain": [
       "'h'"
      ]
     },
     "execution_count": 90,
     "metadata": {},
     "output_type": "execute_result"
    }
   ],
   "source": [
    "s1[0]"
   ]
  },
  {
   "cell_type": "code",
   "execution_count": 91,
   "id": "9c8081ca-ea62-40d5-aa24-97d4295bf900",
   "metadata": {},
   "outputs": [
    {
     "data": {
      "text/plain": [
       "' '"
      ]
     },
     "execution_count": 91,
     "metadata": {},
     "output_type": "execute_result"
    }
   ],
   "source": [
    "s1[2]"
   ]
  },
  {
   "cell_type": "code",
   "execution_count": 92,
   "id": "1e6e6531-9a0c-4bf4-b814-50781806a482",
   "metadata": {},
   "outputs": [
    {
     "data": {
      "text/plain": [
       "' nme is mohit'"
      ]
     },
     "execution_count": 92,
     "metadata": {},
     "output_type": "execute_result"
    }
   ],
   "source": [
    "s1[5:]"
   ]
  },
  {
   "cell_type": "code",
   "execution_count": 93,
   "id": "24acc1be-d05a-446b-b73c-8b60c452cc56",
   "metadata": {},
   "outputs": [
    {
     "data": {
      "text/plain": [
       "' nme '"
      ]
     },
     "execution_count": 93,
     "metadata": {},
     "output_type": "execute_result"
    }
   ],
   "source": [
    "s1[5:10]"
   ]
  },
  {
   "cell_type": "code",
   "execution_count": 1,
   "id": "d58cd5c5-9f01-46b1-a679-b85b2c837726",
   "metadata": {},
   "outputs": [
    {
     "ename": "NameError",
     "evalue": "name 's1' is not defined",
     "output_type": "error",
     "traceback": [
      "\u001b[0;31m---------------------------------------------------------------------------\u001b[0m",
      "\u001b[0;31mNameError\u001b[0m                                 Traceback (most recent call last)",
      "Cell \u001b[0;32mIn[1], line 1\u001b[0m\n\u001b[0;32m----> 1\u001b[0m \u001b[43ms1\u001b[49m[\u001b[38;5;241m-\u001b[39m\u001b[38;5;241m1\u001b[39m]\n",
      "\u001b[0;31mNameError\u001b[0m: name 's1' is not defined"
     ]
    }
   ],
   "source": [
    "s1[-1]"
   ]
  },
  {
   "cell_type": "code",
   "execution_count": 2,
   "id": "6f21bb11-1fef-4e36-b8bd-0d58d05ad9d8",
   "metadata": {},
   "outputs": [
    {
     "ename": "NameError",
     "evalue": "name 's1' is not defined",
     "output_type": "error",
     "traceback": [
      "\u001b[0;31m---------------------------------------------------------------------------\u001b[0m",
      "\u001b[0;31mNameError\u001b[0m                                 Traceback (most recent call last)",
      "Cell \u001b[0;32mIn[2], line 1\u001b[0m\n\u001b[0;32m----> 1\u001b[0m \u001b[43ms1\u001b[49m[\u001b[38;5;241m9\u001b[39m]\n",
      "\u001b[0;31mNameError\u001b[0m: name 's1' is not defined"
     ]
    }
   ],
   "source": [
    "s1[9]"
   ]
  },
  {
   "cell_type": "code",
   "execution_count": 3,
   "id": "78308847-2eec-4f56-ad1f-a33debe94b81",
   "metadata": {},
   "outputs": [
    {
     "ename": "NameError",
     "evalue": "name 's1' is not defined",
     "output_type": "error",
     "traceback": [
      "\u001b[0;31m---------------------------------------------------------------------------\u001b[0m",
      "\u001b[0;31mNameError\u001b[0m                                 Traceback (most recent call last)",
      "Cell \u001b[0;32mIn[3], line 1\u001b[0m\n\u001b[0;32m----> 1\u001b[0m \u001b[43ms1\u001b[49m\n",
      "\u001b[0;31mNameError\u001b[0m: name 's1' is not defined"
     ]
    }
   ],
   "source": [
    "s1"
   ]
  },
  {
   "cell_type": "code",
   "execution_count": 4,
   "id": "35508254-a2a5-4e0e-8d49-1c49fb41cede",
   "metadata": {},
   "outputs": [],
   "source": [
    "s1=\"my self rviknt,ilive in bikner\""
   ]
  },
  {
   "cell_type": "code",
   "execution_count": 5,
   "id": "67324c0d-929a-4fed-bd76-e8dea0e42dfe",
   "metadata": {},
   "outputs": [
    {
     "data": {
      "text/plain": [
       "'b'"
      ]
     },
     "execution_count": 5,
     "metadata": {},
     "output_type": "execute_result"
    }
   ],
   "source": [
    "s1[-1]\n",
    "s1[-6]"
   ]
  },
  {
   "cell_type": "code",
   "execution_count": 7,
   "id": "fb9c6dea-2d34-4158-aacb-1d55d596d600",
   "metadata": {},
   "outputs": [
    {
     "data": {
      "text/plain": [
       "''"
      ]
     },
     "execution_count": 7,
     "metadata": {},
     "output_type": "execute_result"
    }
   ],
   "source": [
    "s1[-1:3]"
   ]
  },
  {
   "cell_type": "code",
   "execution_count": 8,
   "id": "38184429-110b-4761-a6d5-d668421d8efd",
   "metadata": {},
   "outputs": [
    {
     "data": {
      "text/plain": [
       "' self'"
      ]
     },
     "execution_count": 8,
     "metadata": {},
     "output_type": "execute_result"
    }
   ],
   "source": [
    "s1[2:7]"
   ]
  },
  {
   "cell_type": "code",
   "execution_count": 9,
   "id": "042f7ac5-6cb7-4b86-9e2e-2491eb141169",
   "metadata": {},
   "outputs": [
    {
     "data": {
      "text/plain": [
       "'my self rviknt,ilive in bikne'"
      ]
     },
     "execution_count": 9,
     "metadata": {},
     "output_type": "execute_result"
    }
   ],
   "source": [
    "s1[:-1]"
   ]
  },
  {
   "cell_type": "code",
   "execution_count": 10,
   "id": "0747b555-8f8d-4284-9442-e3a59c9d80ae",
   "metadata": {},
   "outputs": [
    {
     "data": {
      "text/plain": [
       "'r'"
      ]
     },
     "execution_count": 10,
     "metadata": {},
     "output_type": "execute_result"
    }
   ],
   "source": [
    "s1[29]"
   ]
  },
  {
   "cell_type": "code",
   "execution_count": 11,
   "id": "9452a87b-b941-4366-ac3f-d57550f6b869",
   "metadata": {},
   "outputs": [
    {
     "data": {
      "text/plain": [
       "'my self rviknt,ilive in bikner'"
      ]
     },
     "execution_count": 11,
     "metadata": {},
     "output_type": "execute_result"
    }
   ],
   "source": [
    "s1[:]"
   ]
  },
  {
   "cell_type": "code",
   "execution_count": 12,
   "id": "2a7672b4-5c1e-4a32-b1ed-3c840ee709ec",
   "metadata": {},
   "outputs": [
    {
     "data": {
      "text/plain": [
       "'rni ieiitkv lsy'"
      ]
     },
     "execution_count": 12,
     "metadata": {},
     "output_type": "execute_result"
    }
   ],
   "source": [
    "s1[::-2]"
   ]
  },
  {
   "cell_type": "code",
   "execution_count": 13,
   "id": "35816525-8cd9-4dee-8603-b9868fd20046",
   "metadata": {},
   "outputs": [
    {
     "data": {
      "text/plain": [
       "'renkib ni evili,tnkivr fles ym'"
      ]
     },
     "execution_count": 13,
     "metadata": {},
     "output_type": "execute_result"
    }
   ],
   "source": [
    "s1[::-1]"
   ]
  },
  {
   "cell_type": "code",
   "execution_count": 14,
   "id": "4d1e8f11-ee20-4fd5-82f5-8b7ca13a9d8d",
   "metadata": {},
   "outputs": [
    {
     "data": {
      "text/plain": [
       "'s ym'"
      ]
     },
     "execution_count": 14,
     "metadata": {},
     "output_type": "execute_result"
    }
   ],
   "source": [
    "s1[3::-1]"
   ]
  },
  {
   "cell_type": "code",
   "execution_count": 15,
   "id": "6c663f16-a89d-48de-a67b-b989d213fee0",
   "metadata": {},
   "outputs": [
    {
     "data": {
      "text/plain": [
       "'vr fles ym'"
      ]
     },
     "execution_count": 15,
     "metadata": {},
     "output_type": "execute_result"
    }
   ],
   "source": [
    "s1[9::-1]"
   ]
  },
  {
   "cell_type": "code",
   "execution_count": 16,
   "id": "085e84ad-2bd9-43e0-bbae-683b31964466",
   "metadata": {},
   "outputs": [
    {
     "data": {
      "text/plain": [
       "'mvvn'"
      ]
     },
     "execution_count": 16,
     "metadata": {},
     "output_type": "execute_result"
    }
   ],
   "source": [
    "s1[::9]"
   ]
  },
  {
   "cell_type": "code",
   "execution_count": 17,
   "id": "539526f1-1e25-442c-bcaf-b541839d8737",
   "metadata": {},
   "outputs": [],
   "source": [
    "t=\"Data science Masters\""
   ]
  },
  {
   "cell_type": "code",
   "execution_count": 18,
   "id": "10d2ee09-3b36-4a83-a70e-e1373fd640e5",
   "metadata": {},
   "outputs": [
    {
     "data": {
      "text/plain": [
       "'Data science Masters'"
      ]
     },
     "execution_count": 18,
     "metadata": {},
     "output_type": "execute_result"
    }
   ],
   "source": [
    "t"
   ]
  },
  {
   "cell_type": "code",
   "execution_count": 19,
   "id": "6d1c4ec0-d18f-4e45-b9ec-b4f6b3c007d6",
   "metadata": {},
   "outputs": [
    {
     "data": {
      "text/plain": [
       "'science'"
      ]
     },
     "execution_count": 19,
     "metadata": {},
     "output_type": "execute_result"
    }
   ],
   "source": [
    "t[5:12]"
   ]
  },
  {
   "cell_type": "code",
   "execution_count": 20,
   "id": "986a4b92-8237-4cc5-9baa-1ce57f401dc0",
   "metadata": {},
   "outputs": [
    {
     "data": {
      "text/plain": [
       "'sretsaM ecneics ataD'"
      ]
     },
     "execution_count": 20,
     "metadata": {},
     "output_type": "execute_result"
    }
   ],
   "source": [
    "t[::-1]"
   ]
  },
  {
   "cell_type": "code",
   "execution_count": 21,
   "id": "3a085848-88a6-40a8-bbef-2be6bc9a18b2",
   "metadata": {},
   "outputs": [
    {
     "data": {
      "text/plain": [
       "'s ataD'"
      ]
     },
     "execution_count": 21,
     "metadata": {},
     "output_type": "execute_result"
    }
   ],
   "source": [
    "t[5::-1]"
   ]
  },
  {
   "cell_type": "code",
   "execution_count": 22,
   "id": "dbc0a828-9f0f-4613-b304-deabebd76640",
   "metadata": {},
   "outputs": [
    {
     "data": {
      "text/plain": [
       "''"
      ]
     },
     "execution_count": 22,
     "metadata": {},
     "output_type": "execute_result"
    }
   ],
   "source": [
    "t[8:15:-1]"
   ]
  },
  {
   "cell_type": "code",
   "execution_count": 23,
   "id": "47a09963-2447-4ce5-a0bf-587c68af5887",
   "metadata": {},
   "outputs": [
    {
     "data": {
      "text/plain": [
       "''"
      ]
     },
     "execution_count": 23,
     "metadata": {},
     "output_type": "execute_result"
    }
   ],
   "source": [
    "t[5:13:-1]"
   ]
  },
  {
   "cell_type": "code",
   "execution_count": 25,
   "id": "eab79368-b30b-48f1-9995-c9506bdce8d9",
   "metadata": {},
   "outputs": [
    {
     "data": {
      "text/plain": [
       "' ecneics'"
      ]
     },
     "execution_count": 25,
     "metadata": {},
     "output_type": "execute_result"
    }
   ],
   "source": [
    "t[12:4:-1]"
   ]
  },
  {
   "cell_type": "code",
   "execution_count": 26,
   "id": "beccb18c-d6fb-40ec-b3a0-873a406ec982",
   "metadata": {},
   "outputs": [
    {
     "data": {
      "text/plain": [
       "'Data science Masters'"
      ]
     },
     "execution_count": 26,
     "metadata": {},
     "output_type": "execute_result"
    }
   ],
   "source": [
    "t"
   ]
  },
  {
   "cell_type": "code",
   "execution_count": 31,
   "id": "c09fb75a-a967-4108-9644-71c8f858b1d0",
   "metadata": {},
   "outputs": [
    {
     "data": {
      "text/plain": [
       "'Data science Masters course '"
      ]
     },
     "execution_count": 31,
     "metadata": {},
     "output_type": "execute_result"
    }
   ],
   "source": [
    "t + \" course \""
   ]
  },
  {
   "cell_type": "code",
   "execution_count": 34,
   "id": "e18a41bf-4f5d-4b4c-a0c3-fe3e500c8463",
   "metadata": {},
   "outputs": [
    {
     "name": "stdout",
     "output_type": "stream",
     "text": [
      "mohit singh\n"
     ]
    }
   ],
   "source": [
    "print(\"mohit\"+\" singh\")"
   ]
  },
  {
   "cell_type": "code",
   "execution_count": 35,
   "id": "5ef4fe6a-a18b-4ac4-852a-3e743cce1f78",
   "metadata": {},
   "outputs": [
    {
     "data": {
      "text/plain": [
       "'Data science MastersData science MastersData science MastersData science MastersData science Masters'"
      ]
     },
     "execution_count": 35,
     "metadata": {},
     "output_type": "execute_result"
    }
   ],
   "source": [
    "t*5"
   ]
  },
  {
   "cell_type": "code",
   "execution_count": 36,
   "id": "1ce78ea3-0306-4291-a39f-e0fd522aa9ab",
   "metadata": {},
   "outputs": [
    {
     "data": {
      "text/plain": [
       "20"
      ]
     },
     "execution_count": 36,
     "metadata": {},
     "output_type": "execute_result"
    }
   ],
   "source": [
    "len(t)"
   ]
  },
  {
   "cell_type": "code",
   "execution_count": 42,
   "id": "3cf3a3db-44fc-4097-a37a-45bf3982ba99",
   "metadata": {},
   "outputs": [
    {
     "data": {
      "text/plain": [
       "0"
      ]
     },
     "execution_count": 42,
     "metadata": {},
     "output_type": "execute_result"
    }
   ],
   "source": [
    "t.find(\"D\")"
   ]
  },
  {
   "cell_type": "code",
   "execution_count": 47,
   "id": "74325d0b-ef3b-4335-9cbf-33d49bd0d1e9",
   "metadata": {},
   "outputs": [
    {
     "data": {
      "text/plain": [
       "21"
      ]
     },
     "execution_count": 47,
     "metadata": {},
     "output_type": "execute_result"
    }
   ],
   "source": [
    "t.count('')"
   ]
  },
  {
   "cell_type": "code",
   "execution_count": 48,
   "id": "15dd0ceb-e02f-48d4-9fc8-9034130aeb4c",
   "metadata": {},
   "outputs": [
    {
     "data": {
      "text/plain": [
       "'Data science Masters'"
      ]
     },
     "execution_count": 48,
     "metadata": {},
     "output_type": "execute_result"
    }
   ],
   "source": [
    "t"
   ]
  },
  {
   "cell_type": "code",
   "execution_count": 51,
   "id": "a56efcaf-38f2-4040-b4f9-072c3a16dd99",
   "metadata": {},
   "outputs": [
    {
     "data": {
      "text/plain": [
       "1"
      ]
     },
     "execution_count": 51,
     "metadata": {},
     "output_type": "execute_result"
    }
   ],
   "source": [
    "t.find('a',0,21)"
   ]
  },
  {
   "cell_type": "markdown",
   "id": "b93652bc-e420-4bbc-8dd3-1bb002cf6fb0",
   "metadata": {},
   "source": [
    "#string split function"
   ]
  },
  {
   "cell_type": "code",
   "execution_count": 58,
   "id": "f265aa8e-4985-4cfa-ab4a-8ce748325047",
   "metadata": {},
   "outputs": [
    {
     "data": {
      "text/plain": [
       "['Data ', 'cience Ma', 'ter', '']"
      ]
     },
     "execution_count": 58,
     "metadata": {},
     "output_type": "execute_result"
    }
   ],
   "source": [
    "t.split('s')"
   ]
  },
  {
   "cell_type": "code",
   "execution_count": 59,
   "id": "ec0828b7-4d58-452d-a19b-63175163b02c",
   "metadata": {},
   "outputs": [
    {
     "data": {
      "text/plain": [
       "('Data ', 's', 'cience Masters')"
      ]
     },
     "execution_count": 59,
     "metadata": {},
     "output_type": "execute_result"
    }
   ],
   "source": [
    "t.partition('s')"
   ]
  },
  {
   "cell_type": "code",
   "execution_count": null,
   "id": "6b186b7a-a445-47be-92b0-cc65036b8409",
   "metadata": {},
   "outputs": [],
   "source": []
  }
 ],
 "metadata": {
  "kernelspec": {
   "display_name": "Python 3 (ipykernel)",
   "language": "python",
   "name": "python3"
  },
  "language_info": {
   "codemirror_mode": {
    "name": "ipython",
    "version": 3
   },
   "file_extension": ".py",
   "mimetype": "text/x-python",
   "name": "python",
   "nbconvert_exporter": "python",
   "pygments_lexer": "ipython3",
   "version": "3.10.8"
  }
 },
 "nbformat": 4,
 "nbformat_minor": 5
}
