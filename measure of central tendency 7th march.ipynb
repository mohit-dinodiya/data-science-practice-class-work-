{
 "cells": [
  {
   "cell_type": "code",
   "execution_count": 1,
   "id": "8248aba7-8915-4121-a3f7-499ed68ca8ec",
   "metadata": {},
   "outputs": [],
   "source": [
    "# mean (average)\n",
    "age =[12,13,14,21,25]\n"
   ]
  },
  {
   "cell_type": "code",
   "execution_count": 3,
   "id": "e5f3f59b-5b29-4da3-b4ea-77ae8aa184c7",
   "metadata": {},
   "outputs": [
    {
     "data": {
      "text/plain": [
       "17.0"
      ]
     },
     "execution_count": 3,
     "metadata": {},
     "output_type": "execute_result"
    }
   ],
   "source": [
    "(12+13+14+21+25)/5"
   ]
  },
  {
   "cell_type": "code",
   "execution_count": 4,
   "id": "0a043fea-95ec-4ca1-8c60-e5a520808bd5",
   "metadata": {},
   "outputs": [
    {
     "data": {
      "text/plain": [
       "17.0"
      ]
     },
     "execution_count": 4,
     "metadata": {},
     "output_type": "execute_result"
    }
   ],
   "source": [
    "import numpy as np\n",
    "np.mean(age)\n"
   ]
  },
  {
   "cell_type": "code",
   "execution_count": 5,
   "id": "0c4d033c-0836-49a4-a9ff-9eb1bf85d285",
   "metadata": {},
   "outputs": [],
   "source": [
    "weights=[48,77,38,44,55,77]"
   ]
  },
  {
   "cell_type": "code",
   "execution_count": 6,
   "id": "bceeddcb-45fc-4ef7-96c0-95c434e691f7",
   "metadata": {},
   "outputs": [
    {
     "data": {
      "text/plain": [
       "56.5"
      ]
     },
     "execution_count": 6,
     "metadata": {},
     "output_type": "execute_result"
    }
   ],
   "source": [
    "np.mean(weights)"
   ]
  },
  {
   "cell_type": "code",
   "execution_count": 7,
   "id": "5d11cd83-654b-4e14-8ad5-21f8742468f1",
   "metadata": {},
   "outputs": [],
   "source": [
    "weights=[48,77,38,44,55,77,100]"
   ]
  },
  {
   "cell_type": "code",
   "execution_count": 8,
   "id": "5e6a329a-90a4-47a4-8963-816396a48113",
   "metadata": {},
   "outputs": [
    {
     "data": {
      "text/plain": [
       "62.714285714285715"
      ]
     },
     "execution_count": 8,
     "metadata": {},
     "output_type": "execute_result"
    }
   ],
   "source": [
    "np.mean(weights)"
   ]
  },
  {
   "cell_type": "code",
   "execution_count": null,
   "id": "8f21bd41-5d5f-42ec-b21a-d1a87c45ad25",
   "metadata": {},
   "outputs": [],
   "source": [
    "# median"
   ]
  },
  {
   "cell_type": "code",
   "execution_count": 9,
   "id": "6e2eba8d-8155-4e60-a734-cadbc0ceca8c",
   "metadata": {},
   "outputs": [
    {
     "data": {
      "text/plain": [
       "55.0"
      ]
     },
     "execution_count": 9,
     "metadata": {},
     "output_type": "execute_result"
    }
   ],
   "source": [
    "np.median(weights)"
   ]
  },
  {
   "cell_type": "code",
   "execution_count": 10,
   "id": "6a998e42-ca78-4499-94ec-7d5a25ad880e",
   "metadata": {},
   "outputs": [],
   "source": [
    "# mode"
   ]
  },
  {
   "cell_type": "code",
   "execution_count": 11,
   "id": "5b402a48-c6ec-429d-940d-413abd9cd718",
   "metadata": {},
   "outputs": [],
   "source": [
    "from scipy import stats"
   ]
  },
  {
   "cell_type": "code",
   "execution_count": 12,
   "id": "62ddda88-b82a-4855-b884-23e4fb077b05",
   "metadata": {},
   "outputs": [
    {
     "name": "stderr",
     "output_type": "stream",
     "text": [
      "/tmp/ipykernel_124/4197893964.py:1: FutureWarning: Unlike other reduction functions (e.g. `skew`, `kurtosis`), the default behavior of `mode` typically preserves the axis it acts along. In SciPy 1.11.0, this behavior will change: the default value of `keepdims` will become False, the `axis` over which the statistic is taken will be eliminated, and the value None will no longer be accepted. Set `keepdims` to True or False to avoid this warning.\n",
      "  stats.mode(weights)\n"
     ]
    },
    {
     "data": {
      "text/plain": [
       "ModeResult(mode=array([77]), count=array([2]))"
      ]
     },
     "execution_count": 12,
     "metadata": {},
     "output_type": "execute_result"
    }
   ],
   "source": [
    "stats.mode(weights)"
   ]
  },
  {
   "cell_type": "code",
   "execution_count": null,
   "id": "b65f8356-7f78-4c4f-ac6d-8c31bdb40aec",
   "metadata": {},
   "outputs": [],
   "source": []
  }
 ],
 "metadata": {
  "kernelspec": {
   "display_name": "Python 3 (ipykernel)",
   "language": "python",
   "name": "python3"
  },
  "language_info": {
   "codemirror_mode": {
    "name": "ipython",
    "version": 3
   },
   "file_extension": ".py",
   "mimetype": "text/x-python",
   "name": "python",
   "nbconvert_exporter": "python",
   "pygments_lexer": "ipython3",
   "version": "3.10.8"
  }
 },
 "nbformat": 4,
 "nbformat_minor": 5
}
