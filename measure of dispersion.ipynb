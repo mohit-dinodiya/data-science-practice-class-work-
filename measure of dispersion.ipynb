{
 "cells": [
  {
   "cell_type": "markdown",
   "id": "4fd6aefb-ee48-4d1c-9ab4-4f21d918c2b8",
   "metadata": {},
   "source": [
    "## measure of dispersion"
   ]
  },
  {
   "cell_type": "code",
   "execution_count": 1,
   "id": "4be6ecd3-e3fa-479d-99da-6b193c136967",
   "metadata": {},
   "outputs": [],
   "source": [
    "## variance\n",
    "\n",
    "age_list = [56,33,78,21,22,89,38,76]"
   ]
  },
  {
   "cell_type": "code",
   "execution_count": 2,
   "id": "0d6d01ee-83e2-48e6-9a3c-a6c6b23b3698",
   "metadata": {},
   "outputs": [],
   "source": [
    "import numpy as np"
   ]
  },
  {
   "cell_type": "code",
   "execution_count": 3,
   "id": "87606378-2f4a-4770-80be-86669a5c040f",
   "metadata": {},
   "outputs": [],
   "source": [
    "mean = np.mean(age_list)"
   ]
  },
  {
   "cell_type": "code",
   "execution_count": 4,
   "id": "e185eee1-edf4-43a8-9745-43c650e51936",
   "metadata": {},
   "outputs": [
    {
     "data": {
      "text/plain": [
       "51.625"
      ]
     },
     "execution_count": 4,
     "metadata": {},
     "output_type": "execute_result"
    }
   ],
   "source": [
    "mean"
   ]
  },
  {
   "cell_type": "code",
   "execution_count": 5,
   "id": "90ea3631-a3dc-49af-bafa-77e944efca2c",
   "metadata": {},
   "outputs": [],
   "source": [
    "var = np.var(age_list)"
   ]
  },
  {
   "cell_type": "code",
   "execution_count": 6,
   "id": "0e201964-3d6f-45bd-ab7a-3b5aebc0aa86",
   "metadata": {},
   "outputs": [
    {
     "data": {
      "text/plain": [
       "631.734375"
      ]
     },
     "execution_count": 6,
     "metadata": {},
     "output_type": "execute_result"
    }
   ],
   "source": [
    "var"
   ]
  },
  {
   "cell_type": "code",
   "execution_count": 7,
   "id": "b8747a69-8fbf-4b24-9fbd-437b05e0cef5",
   "metadata": {},
   "outputs": [
    {
     "data": {
      "text/plain": [
       "25.134326627144798"
      ]
     },
     "execution_count": 7,
     "metadata": {},
     "output_type": "execute_result"
    }
   ],
   "source": [
    "std = np.std(age_list)\n",
    "\n",
    "std"
   ]
  },
  {
   "cell_type": "code",
   "execution_count": 8,
   "id": "5ce01c15-811c-4c02-8959-961f7547225b",
   "metadata": {},
   "outputs": [],
   "source": [
    "import pandas as pd"
   ]
  },
  {
   "cell_type": "code",
   "execution_count": 9,
   "id": "3660d872-a197-4c96-aea2-fd43f7afcfd9",
   "metadata": {},
   "outputs": [
    {
     "data": {
      "text/plain": [
       "[[28, 54, 91], [11, 23, 78], [99, 65, 23]]"
      ]
     },
     "execution_count": 9,
     "metadata": {},
     "output_type": "execute_result"
    }
   ],
   "source": [
    "data = [[28,54,91],[11,23,78],[99,65,23]]\n",
    "data"
   ]
  },
  {
   "cell_type": "code",
   "execution_count": 11,
   "id": "4a595a08-d25e-46cd-93f8-506d920da83c",
   "metadata": {},
   "outputs": [
    {
     "data": {
      "text/html": [
       "<div>\n",
       "<style scoped>\n",
       "    .dataframe tbody tr th:only-of-type {\n",
       "        vertical-align: middle;\n",
       "    }\n",
       "\n",
       "    .dataframe tbody tr th {\n",
       "        vertical-align: top;\n",
       "    }\n",
       "\n",
       "    .dataframe thead th {\n",
       "        text-align: right;\n",
       "    }\n",
       "</style>\n",
       "<table border=\"1\" class=\"dataframe\">\n",
       "  <thead>\n",
       "    <tr style=\"text-align: right;\">\n",
       "      <th></th>\n",
       "      <th>0</th>\n",
       "      <th>1</th>\n",
       "      <th>2</th>\n",
       "    </tr>\n",
       "  </thead>\n",
       "  <tbody>\n",
       "    <tr>\n",
       "      <th>0</th>\n",
       "      <td>28</td>\n",
       "      <td>54</td>\n",
       "      <td>91</td>\n",
       "    </tr>\n",
       "    <tr>\n",
       "      <th>1</th>\n",
       "      <td>11</td>\n",
       "      <td>23</td>\n",
       "      <td>78</td>\n",
       "    </tr>\n",
       "    <tr>\n",
       "      <th>2</th>\n",
       "      <td>99</td>\n",
       "      <td>65</td>\n",
       "      <td>23</td>\n",
       "    </tr>\n",
       "  </tbody>\n",
       "</table>\n",
       "</div>"
      ],
      "text/plain": [
       "    0   1   2\n",
       "0  28  54  91\n",
       "1  11  23  78\n",
       "2  99  65  23"
      ]
     },
     "execution_count": 11,
     "metadata": {},
     "output_type": "execute_result"
    }
   ],
   "source": [
    "df = pd.DataFrame(data)\n",
    "df"
   ]
  },
  {
   "cell_type": "code",
   "execution_count": 12,
   "id": "87677db4-2f3a-42cf-9a16-250f13388afe",
   "metadata": {},
   "outputs": [
    {
     "data": {
      "text/plain": [
       "0    2179.000000\n",
       "1     474.333333\n",
       "2    1303.000000\n",
       "dtype: float64"
      ]
     },
     "execution_count": 12,
     "metadata": {},
     "output_type": "execute_result"
    }
   ],
   "source": [
    "df.var()"
   ]
  },
  {
   "cell_type": "code",
   "execution_count": 13,
   "id": "8bb83275-39ad-404f-a91d-026786f5ad16",
   "metadata": {},
   "outputs": [
    {
     "data": {
      "text/plain": [
       "0    1002.333333\n",
       "1    1276.333333\n",
       "2    1449.333333\n",
       "dtype: float64"
      ]
     },
     "execution_count": 13,
     "metadata": {},
     "output_type": "execute_result"
    }
   ],
   "source": [
    "## rowwise\n",
    "df.var(axis=1)"
   ]
  },
  {
   "cell_type": "code",
   "execution_count": 14,
   "id": "a352707a-6417-41fb-9451-e142bb9764cf",
   "metadata": {},
   "outputs": [
    {
     "data": {
      "text/plain": [
       "0    2179.000000\n",
       "1     474.333333\n",
       "2    1303.000000\n",
       "dtype: float64"
      ]
     },
     "execution_count": 14,
     "metadata": {},
     "output_type": "execute_result"
    }
   ],
   "source": [
    "## columnwise\n",
    "df.var(axis=0)"
   ]
  },
  {
   "cell_type": "code",
   "execution_count": null,
   "id": "8bf9ea54-8cd0-4a71-866d-c3139773d24b",
   "metadata": {},
   "outputs": [],
   "source": []
  }
 ],
 "metadata": {
  "kernelspec": {
   "display_name": "Python 3 (ipykernel)",
   "language": "python",
   "name": "python3"
  },
  "language_info": {
   "codemirror_mode": {
    "name": "ipython",
    "version": 3
   },
   "file_extension": ".py",
   "mimetype": "text/x-python",
   "name": "python",
   "nbconvert_exporter": "python",
   "pygments_lexer": "ipython3",
   "version": "3.10.8"
  }
 },
 "nbformat": 4,
 "nbformat_minor": 5
}
